{
 "cells": [
  {
   "cell_type": "markdown",
   "id": "56d25cf1-93f4-4097-9b21-3ac3a4dbdbf0",
   "metadata": {
    "deletable": false,
    "editable": false
   },
   "source": [
    "#### **예제 4-1 : 반복문으로 Codle 100번 출력하기**\n"
   ]
  },
  {
   "cell_type": "code",
   "execution_count": null,
   "id": "6d174903-2b75-4c3d-9c84-5508b446dca4",
   "metadata": {
    "tags": [
     "jce.problems.5.예제_4-1_반복문으로_Codle_100번_출력하기"
    ]
   },
   "outputs": [],
   "source": [
    "# 예제_4-1_반복문으로_Codle_100번_출력하기\n",
    "for i in range(0, 100, 1):  # i = 0~99\n",
    "    print(\"Codle\")"
   ]
  },
  {
   "cell_type": "markdown",
   "id": "53f8ec70-ac65-4a05-bdfc-46a14dedcce6",
   "metadata": {
    "deletable": false,
    "editable": false,
    "tags": []
   },
   "source": [
    "#### 예제 4-1 해설\n",
    "> 위 코드는 변수 i에 0부터 99까지의 1씩 증가하는 정수를 대입하면서 총 100번 실행되는 반복문입니다.  \n",
    "매 실행마다 for문 아래 들여쓰기된 코드인\n",
    ">```python\n",
    "> print(\"Codle\")\n",
    "> ```  \n",
    "> \n",
    "> 이 총 100번 실행됩니다.   \n",
    "메번 i에 값이 대입되기는 하지만, 반복 실행되는 코드에 i가 포함되지 않았기 때문에 동일한 코드가 반복 실행됩니다.\n"
   ]
  },
  {
   "cell_type": "markdown",
   "id": "3b158f20-fceb-418b-a9df-303b5b0aa64d",
   "metadata": {
    "deletable": false,
    "editable": false
   },
   "source": [
    "#### **예제 4-2 : range 함수에서 시작점과 변화량 생략하기**\n"
   ]
  },
  {
   "cell_type": "code",
   "execution_count": null,
   "id": "14965246-809b-451a-b947-86a777832663",
   "metadata": {
    "tags": [
     "jce.problems.5.예제_4-2_range_함수에서_시작점과_변화량_생략하기"
    ]
   },
   "outputs": [],
   "source": [
    "# 예제_4-2_range_함수에서_시작점과_변화량_생략하기\n",
    "for i in range(100):  # i = 0~99\n",
    "    print(\"Codle\")"
   ]
  },
  {
   "cell_type": "markdown",
   "id": "eee373ae-3f60-41f2-ad81-0e14dd539d54",
   "metadata": {
    "deletable": false,
    "editable": false,
    "tags": []
   },
   "source": [
    "#### 예제 4-2 해설\n",
    "> range(0, 100, 1)은 시작점 0, 끝점 100, 변화량 1을 의미합니다.  \n",
    "이때 시작점과 변화량을 생략하고 range(100)만 남기면 시작점은 0, 변화량은 1로 자동 설정됩니다.  \n",
    "즉, range(0, 100, 1)은 range(100)과 동일합니다.\n"
   ]
  },
  {
   "cell_type": "markdown",
   "id": "7dd5e3fe-8ac1-4167-a530-ffff98bce2df",
   "metadata": {
    "deletable": false,
    "editable": false,
    "tags": []
   },
   "source": [
    "#### **예제 5 : 다양한 range 함수 사용해보기**\n",
    "코드를 실행해보기 전에 어떤 값들이 출력될지 한번 예상해봐요!\n"
   ]
  },
  {
   "cell_type": "code",
   "execution_count": null,
   "id": "58f811ce-59d4-41be-bd58-ddb41f80b622",
   "metadata": {
    "tags": [
     "jce.problems.5.예제_5_다양한_range_함수_사용해보기"
    ]
   },
   "outputs": [],
   "source": [
    "# 예제_5_다양한_range_함수_사용해보기\n",
    "\n",
    "for i in range(5,10,1):   # 5부터 시작해 10 전까지 1씩 증가한다.\n",
    "    print(i)\n",
    "print()\n",
    "    \n",
    "for i in range(5,10):   # 위 코드와 동일하지만, range()안에 두 값만 넣어 변화량을 1로 자동 설정한다.\n",
    "    print(i)\n",
    "print()\n",
    "\n",
    "for i in range(2, 10, 3):   # 2부터 시작해 10 전까지 3씩 증가한다.\n",
    "    print(i)\n",
    "print()\n",
    "\n",
    "for i in range(4,0,-1):    # 4부터 시작해 0 전까지 1씩 감소한다.\n",
    "    print(i)\n",
    "print()"
   ]
  },
  {
   "cell_type": "markdown",
   "id": "2aff4b68-01d0-4b40-9570-a1a0f7070cc6",
   "metadata": {
    "deletable": false,
    "editable": false
   },
   "source": [
    "### **💯 연습문제를 풀어봅시다**\n",
    "3. <a class=\"jcecodle-mk jcecodle-mk__problem-chip\" data-problem-id=\"PrSFzs-9pTw\" href='#jce-judge/open/PrSFzs-9pTw' target='_self'><span>카운트다운1_빈칸</span></a>\n",
    "<a class=\"jcecodle-mk jcecodle-mk__problem-chip\" data-problem-id=\"137\" href='#jce-judge/open/137' target='_self'><span>카운트다운1</span></a>\n",
    "\n",
    "4. <a class=\"jcecodle-mk jcecodle-mk__problem-chip\" data-problem-id=\"I8Zmf8XIIXQ\" href='#jce-judge/open/I8Zmf8XIIXQ' target='_self'><span>카운트다운2_빈칸</span></a>\n",
    "<a class=\"jcecodle-mk jcecodle-mk__problem-chip\" data-problem-id=\"139\" href='#jce-judge/open/139' target='_self'><span>카운트다운2</span></a>\n"
   ]
  },
  {
   "cell_type": "markdown",
   "id": "fa206678-c052-4e6a-80f5-88caf8fbe02e",
   "metadata": {
    "deletable": false,
    "editable": false
   },
   "source": [
    "## **반복문의 활용 : 리스트와 index 값을 활용하기** \n",
    "> 리스트에서 각 값들은 인덱스를 가지고 있습니다. 이를 활용해 봅시다. \n"
   ]
  },
  {
   "cell_type": "markdown",
   "id": "2b0d4ced-74f5-4233-914f-8979f5989609",
   "metadata": {
    "deletable": false,
    "editable": false
   },
   "source": [
    "#### **예제 6 : 리스트의 인덱스 값을 활용해봅시다.**\n"
   ]
  },
  {
   "cell_type": "code",
   "execution_count": null,
   "id": "def640bf-a57d-4692-ad52-fe9239983b7f",
   "metadata": {
    "tags": [
     "jce.problems.5.예제_6_리스트와_index_값을_활용하기"
    ]
   },
   "outputs": [],
   "source": [
    "# 예제_6_리스트와_index_값을_활용하기\n",
    "bts = [\"RM\",\"진\",\"슈가\",\"지민\",\"정국\",\"뷔\",\"제이홉\"]\n",
    "\n",
    "for i in range(7):\n",
    "    print(\"방탄소년단의 \"+str(i+1)+\"번째 멤버는 \"+ bts[i]+\"입니다.\")  # 인덱스는 0부터, 순서는 1부터 시작하기 때문에, str(i+1), bts[i] 와 같이 작성됩니다."
   ]
  },
  {
   "cell_type": "markdown",
   "id": "913a0e7a-95c6-4cff-bc52-0b70c3926bfb",
   "metadata": {
    "deletable": false,
    "editable": false,
    "tags": []
   },
   "source": [
    "#### 예제 6 해설\n",
    "> 위에서 정의한 bts라는 리스트는 총 7개의 값을 갖고 있으며, \"RM\"의 인덱스는 0, \"진\"의 인덱스는 1, 그리고 마지막 \"제이홉\"의 인덱스는 6입니다.\n",
    "> 따라서 i에 0부터 6의 인덱스를 대입해 n번째 멤버의 이름을 순서대로 출력하는 반복문을 작성할 수 있습니다.\n"
   ]
  },
  {
   "cell_type": "markdown",
   "id": "8cddff90-36e0-4c3f-8337-4ecfce50f422",
   "metadata": {
    "deletable": false,
    "editable": false,
    "jp-MarkdownHeadingCollapsed": true,
    "tags": []
   },
   "source": [
    "### **💯 연습문제를 풀어봅시다**\n",
    "5. <a class=\"jcecodle-mk jcecodle-mk__problem-chip\" data-problem-id=\"L1fbkK6Xjh0\" href='#jce-judge/open/L1fbkK6Xjh0' target='_self'><span>별의 위치는?_빈칸</span></a>\n",
    "<a class=\"jcecodle-mk jcecodle-mk__problem-chip\" data-problem-id=\"wV5UIG59IF4\" href='#jce-judge/open/wV5UIG59IF4' target='_self'><span>별의 위치는?</span></a>\n"
   ]
  },
  {
   "cell_type": "markdown",
   "id": "386da627-a142-4e94-a2b1-14db58132052",
   "metadata": {
    "deletable": false,
    "editable": false
   },
   "source": [
    "## **반복문의 활용 : if 문과 함께 활용하기** \n",
    "> for문 속 변수에 if문을 적용해봅시다.  \n",
    "\n",
    "> **⛔️ 오류(ERROR):**\n",
    ">for문도 들여쓰기가 필요하고, if문도 들여쓰기가 필요하니 코드가 원하는대로 작동하게 하려면 들여쓰기에 주의해야 합니다."
   ]
  },
  {
   "cell_type": "markdown",
   "id": "d1d13a2a-0730-4779-b14f-49916ec412dc",
   "metadata": {
    "deletable": false,
    "editable": false
   },
   "source": [
    "#### **예제 7 : for문과 if문을 함께 사용해 3의 배수만 더하기**\n"
   ]
  },
  {
   "cell_type": "code",
   "execution_count": null,
   "id": "1d2e3686-fcf0-4c29-a755-6446e7f7ec8f",
   "metadata": {
    "tags": [
     "jce.problems.5.예제_7_for문과_if문을_함께_사용해_3의_배수만_더하기"
    ]
   },
   "outputs": [],
   "source": [
    "#예제_7_for문과_if문을_함께_사용해_3의_배수만_더하기\n",
    "\n",
    "n = input(\"정수를 입력하세요.\") # 변수 n에 정수를 입력받자.\n",
    "n = int(n) # 입력받은 n을 정수형으로 변환해준다.\n",
    "sum = 0 # 총합을 저장할 변수 sum을 0으로 설정하자.\n",
    "\n",
    "# 0에서 n까지 순서대로 i에 대입하고, i가 3의 배수일 때에만 sum에 더해주는 반복문입니다. \n",
    "for i in range(n+1): # range 함수는 n미만까지가 범위이므로, n+1까지 범위를 설정해주자. \n",
    "    if i % 3 == 0: # 3으로 나눈 나머지가 0이면, 3의 배수라는 뜻이죠? (% : 나머지 연산자)\n",
    "        sum = sum+i  #  i가 3의 배수일 때에만(조건 성립 시에만) sum에 i를 더해줍니다.\n",
    "\n",
    "print(sum)"
   ]
  },
  {
   "cell_type": "markdown",
   "id": "e2c5d171-4dd4-47df-8b8e-f52ce630509d",
   "metadata": {
    "deletable": false,
    "editable": false
   },
   "source": [
    "### **💯 연습문제를 풀어봅시다**\n",
    "\n",
    "6. <a class=\"jcecodle-mk jcecodle-mk__problem-chip\" data-problem-id=\"zAA-8lTMEXo\" href='#jce-judge/open/zAA-8lTMEXo' target='_self'><span>짝수 합 구하기_빈칸</span></a>\n",
    "<a class=\"jcecodle-mk jcecodle-mk__problem-chip\" data-problem-id=\"147\" href='#jce-judge/open/147' target='_self'><span>짝수 합 구하기</span></a>"
   ]
  },
  {
   "cell_type": "markdown",
   "id": "8e621e13-419b-4c16-a081-a4724b0c4886",
   "metadata": {
    "deletable": false,
    "editable": false
   },
   "source": [
    "## **이중 for문 활용하기** \n",
    "> for문 속에 for문을 넣으면 어떤 일이 일어날까요?  \n",
    "for문 안에 또 다른 for문을 중첩해서 작성하는 코드를 \"이중 for문\"이라고 합니다.   \n",
    "이중 for문은 아래와 같은 구조로 이루어집니다. "
   ]
  },
  {
   "cell_type": "markdown",
   "id": "3481e822-9d7e-4adf-8ab2-b7f1a241823a",
   "metadata": {
    "deletable": false,
    "editable": false
   },
   "source": [
    "#### **예제 8 : 이중 for문 사용해보기**\n"
   ]
  },
  {
   "cell_type": "code",
   "execution_count": null,
   "id": "e2d65d75-2c4b-48f3-b548-3e38b9ffc741",
   "metadata": {
    "tags": [
     "jce.problems.5.예제_8_이중_for문_사용해보기"
    ]
   },
   "outputs": [],
   "source": [
    "# 예제_8_이중_for문_사용해보기\n",
    "\n",
    "for i in range(4):\n",
    "    for j in range(3):\n",
    "        print(\"i=\", i, \", j=\", j)\n",
    "    print(\"=============\")"
   ]
  },
  {
   "cell_type": "markdown",
   "id": "72401299-8fc3-4b7f-b47a-40e517114268",
   "metadata": {
    "deletable": false,
    "editable": false
   },
   "source": [
    "> for i in range(4) 와 같이 바깥에 있는 for문과 for j in range(3) 과 같이 안 쪽에 있는 for문으로 이루어져 있습니다.   \n",
    "이중 for문의 수행 과정은 다음과 같습니다.   \n",
    "바깥쪽 for문이 실행되어 데이터 하나를 i에 저장하면, 그때 안쪽 for문이 실행됩니다.   \n",
    "안쪽 for문의 반복이 모두 끝날 때까지 i는 처음 저장된 그 데이터를 유지하고,   \n",
    "안쪽 for문 반복이 끝난 후에야 바깥쪽 for문의 반복이 다시 수행되어 i의 데이터가 바뀝니다.   \n",
    "실제로 위에 제시된 이중 for문을 보면 i는 j가 range(3)만큼의 반복을 모두 끝낼 때까지 변화하지 않습니다.     \n",
    "그리고 i가 range(4)만큼의 반복을 하여 마지막 데이터인 3을 저장하고 있을 때,  \n",
    "j가 반복을 모두 끝내면 이중 for문의 반복이 종료됩니다.   "
   ]
  },
  {
   "cell_type": "markdown",
   "id": "bb544f75-062d-4ca4-b78d-0814d0c76768",
   "metadata": {
    "deletable": false,
    "editable": false,
    "tags": []
   },
   "source": [
    "#### 예제 8 해설\n",
    "> ```python\n",
    "> for i in range(4)  \n",
    "\n",
    ">와 같이 바깥에 있는 for문과   \n",
    "\n",
    ">```python  \n",
    "> for j in range(3)  \n",
    "\n",
    "> 과 같이 안 쪽에 있는 for문으로 이루어져 있습니다.   \n",
    "\n",
    "> 바깥쪽 for문이 실행되어 데이터 하나를 i에 저장하면, 그때 안쪽 for문이 실행됩니다.   \n",
    "안쪽 for문의 반복이 모두 끝날 때까지 i는 처음 저장된 그 값을 유지하고,   \n",
    "안쪽 for문 반복이 전부 끝난 후에야 바깥쪽 for문이 다시 실행되어 i의 값이 바뀝니다.   \n",
    "\n",
    "> i가 0일 때 j가 0에서 2까지 반복되고, 그 다음 i가 1일때 다시 j가 반복되며, 동일한 방식으로 i가 3, j가 2일 때까지 맨 안쪽 코드는 총 12번 반복 실행되고 코드가 종료됩니다."
   ]
  },
  {
   "cell_type": "markdown",
   "id": "4bd79ec2-7961-4554-8b7f-c5eae550b29e",
   "metadata": {
    "deletable": false,
    "editable": false
   },
   "source": [
    "#### **예제 9 : 이중 for문으로 패턴 그리기**\n",
    "\n",
    ">(힌트) 위의 그림은 행이 10줄, 열은 10개의 숫자로 이루어져 있고, 각각은 바깥 for문과 안쪽 for문으로 구현됨에 유의하여 예제를 풀어보세요.\n"
   ]
  },
  {
   "attachments": {
    "438389b6-77a3-476d-a9bf-d1912bdaca78.png": {
     "image/png": "[encoded data removed]"
    }
   },
   "cell_type": "markdown",
   "id": "7726c648-fcce-44f5-b265-f36e97339baa",
   "metadata": {
    "deletable": false,
    "editable": false
   },
   "source": [
    "![image.png](attachment:438389b6-77a3-476d-a9bf-d1912bdaca78.png)"
   ]
  },
  {
   "cell_type": "code",
   "execution_count": null,
   "id": "2c11b1e9-31b0-4c69-971a-b09d7d72c171",
   "metadata": {
    "tags": [
     "jce.problems.5.예제_9_이중_for문으로_패턴_그리기"
    ]
   },
   "outputs": [],
   "source": [
    "#예제_9_이중_for문으로_패턴_그리기\n",
    "\n",
    "for i in range(10):\n",
    "    for j in range(1, 11):\n",
    "        print(j, end=\" \")\n",
    "    print()"
   ]
  },
  {
   "cell_type": "markdown",
   "id": "3245b775-c8b7-4306-b708-12858003fa55",
   "metadata": {
    "deletable": false,
    "editable": false,
    "tags": []
   },
   "source": [
    "#### 예제 9 해설\n",
    "> 이중 for문은 패턴 그리기 문제에 많이 활용됩니다.  \n",
    "2차원 상의 패턴은 행과 열로 표현되는데, 바깥쪽 for문이 행, 안쪽 for문이 열을 나타내도록 코드를 구성하면 패턴을 쉽게 구현할 수 있습니다.  \n",
    "\n",
    "\n",
    "\n",
    "> (참고) 1단원에서 말했지만, print() 함수는 마지막에 자동으로 줄바꿈을 수행합니다.  \n",
    "줄바꿈을 하지 않게 하기 위해서는 출력의 마지막 문자를 바꿔야 합니다.  \n",
    "그 방법은 print(\"출력할 것\", end=\" \") 와 같이 end를 다른 문자로 지정해주면 됩니다.\n"
   ]
  },
  {
   "cell_type": "markdown",
   "id": "a4f28a99-f0c7-48b2-8177-7bb0fb1c8bfb",
   "metadata": {
    "deletable": false,
    "editable": false
   },
   "source": [
    "### **💯 연습문제를 풀어봅시다**\n",
    "7. <a class=\"jcecodle-mk jcecodle-mk__problem-chip\" data-problem-id=\"GRlj6s-TaG8\" href='#jce-judge/open/GRlj6s-TaG8' target='_self'><span>패턴 출력하기1_빈칸</span></a>\n",
    "<a class=\"jcecodle-mk jcecodle-mk__problem-chip\" data-problem-id=\"2F3_H6qZUL8\" href='#jce-judge/open/2F3_H6qZUL8' target='_self'><span>패턴 출력하기1</span></a>\n"
   ]
  }
 ],
 "metadata": {
  "kernelspec": {
   "display_name": "Python 3 (ipykernel)",
   "language": "python",
   "name": "python3"
  },
  "language_info": {
   "codemirror_mode": {
    "name": "ipython",
    "version": 3
   },
   "file_extension": ".py",
   "mimetype": "text/x-python",
   "name": "python",
   "nbconvert_exporter": "python",
   "pygments_lexer": "ipython3",
   "version": "3.10.10"
  },
  "read_only": true
 },
 "nbformat": 4,
 "nbformat_minor": 5
}
